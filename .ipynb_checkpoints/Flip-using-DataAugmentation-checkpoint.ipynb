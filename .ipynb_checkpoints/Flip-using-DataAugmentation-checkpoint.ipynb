{
 "cells": [
  {
   "cell_type": "code",
   "execution_count": 1,
   "metadata": {
    "colab": {
     "base_uri": "https://localhost:8080/",
     "height": 129
    },
    "colab_type": "code",
    "executionInfo": {
     "elapsed": 72159,
     "status": "ok",
     "timestamp": 1569827088035,
     "user": {
      "displayName": "Neeraj Prakash",
      "photoUrl": "https://lh3.googleusercontent.com/a-/AAuE7mCMzeQpJ5NVoD-BuhX9YIuoNDSb52PMKBE3vYa1Cg=s64",
      "userId": "13497357977682344354"
     },
     "user_tz": -330
    },
    "id": "akfcHYm374Z2",
    "outputId": "064ca00e-9891-43e1-93eb-67de7e7f45bb"
   },
   "outputs": [
    {
     "name": "stdout",
     "output_type": "stream",
     "text": [
      "Go to this URL in a browser: https://accounts.google.com/o/oauth2/auth?client_id=947318989803-6bn6qk8qdgf4n4g3pfee6491hc0brc4i.apps.googleusercontent.com&redirect_uri=urn%3Aietf%3Awg%3Aoauth%3A2.0%3Aoob&scope=email%20https%3A%2F%2Fwww.googleapis.com%2Fauth%2Fdocs.test%20https%3A%2F%2Fwww.googleapis.com%2Fauth%2Fdrive%20https%3A%2F%2Fwww.googleapis.com%2Fauth%2Fdrive.photos.readonly%20https%3A%2F%2Fwww.googleapis.com%2Fauth%2Fpeopleapi.readonly&response_type=code\n",
      "\n",
      "Enter your authorization code:\n",
      "··········\n",
      "Mounted at /content/drive/\n"
     ]
    }
   ],
   "source": [
    "from google.colab import drive\n",
    "drive.mount('/content/drive/')"
   ]
  },
  {
   "cell_type": "code",
   "execution_count": 0,
   "metadata": {
    "colab": {},
    "colab_type": "code",
    "id": "rV1tZ3m98G9l"
   },
   "outputs": [],
   "source": [
    "import numpy as np\n",
    "y = np.load(\"drive/My Drive/PetImages/y.npy\")\n",
    "X = np.load(\"drive/My Drive/PetImages/X.npy\")\n"
   ]
  },
  {
   "cell_type": "code",
   "execution_count": 3,
   "metadata": {
    "colab": {
     "base_uri": "https://localhost:8080/",
     "height": 35
    },
    "colab_type": "code",
    "executionInfo": {
     "elapsed": 2523,
     "status": "ok",
     "timestamp": 1569827105893,
     "user": {
      "displayName": "Neeraj Prakash",
      "photoUrl": "https://lh3.googleusercontent.com/a-/AAuE7mCMzeQpJ5NVoD-BuhX9YIuoNDSb52PMKBE3vYa1Cg=s64",
      "userId": "13497357977682344354"
     },
     "user_tz": -330
    },
    "id": "HkthzL1W9Ktn",
    "outputId": "2fc843af-76e7-4895-835a-d5a2023983bb"
   },
   "outputs": [
    {
     "name": "stderr",
     "output_type": "stream",
     "text": [
      "Using TensorFlow backend.\n"
     ]
    }
   ],
   "source": [
    "import keras\n",
    "import warnings\n",
    "warnings.filterwarnings('ignore')"
   ]
  },
  {
   "cell_type": "code",
   "execution_count": 0,
   "metadata": {
    "colab": {},
    "colab_type": "code",
    "id": "aT61ukRD9qFc"
   },
   "outputs": [],
   "source": [
    "#Normalizing the pixel values of the image\n",
    "X = X/255.0\n",
    "#print(X[1])\n",
    "\n",
    "#Splitting the Dataset into Test and Train sets\n",
    "X_test = X[-1000:]\n",
    "y_test = y[-1000:]\n",
    "\n",
    "X_train = X[:-1000]\n",
    "y_train = y[:-1000]"
   ]
  },
  {
   "cell_type": "code",
   "execution_count": 0,
   "metadata": {
    "colab": {},
    "colab_type": "code",
    "id": "EbVUEYW1KUkv"
   },
   "outputs": [],
   "source": [
    "#Loading a pre-trained model\n",
    "model = keras.models.load_model('drive/My Drive/Colab Notebooks/90-100ep-noflip.h5')"
   ]
  },
  {
   "cell_type": "code",
   "execution_count": 0,
   "metadata": {
    "colab": {},
    "colab_type": "code",
    "id": "C79j0F2hK2-Q"
   },
   "outputs": [],
   "source": [
    "#Importing data generator from keras\n",
    "from keras.preprocessing.image import ImageDataGenerator"
   ]
  },
  {
   "cell_type": "code",
   "execution_count": 0,
   "metadata": {
    "colab": {},
    "colab_type": "code",
    "id": "pmzAh2h8LHbU"
   },
   "outputs": [],
   "source": [
    "#Creating object of the datagen class and fitting our training data\n",
    "datagen = ImageDataGenerator(horizontal_flip=True)\n",
    "datagen.fit(X_train)"
   ]
  },
  {
   "cell_type": "code",
   "execution_count": 43,
   "metadata": {
    "colab": {
     "base_uri": "https://localhost:8080/",
     "height": 1000
    },
    "colab_type": "code",
    "executionInfo": {
     "elapsed": 781329,
     "status": "ok",
     "timestamp": 1569832806772,
     "user": {
      "displayName": "Neeraj Prakash",
      "photoUrl": "https://lh3.googleusercontent.com/a-/AAuE7mCMzeQpJ5NVoD-BuhX9YIuoNDSb52PMKBE3vYa1Cg=s64",
      "userId": "13497357977682344354"
     },
     "user_tz": -330
    },
    "id": "wlxlk02jMCJc",
    "outputId": "deba652a-9382-42a1-a3da-ee901fc18416"
   },
   "outputs": [
    {
     "name": "stdout",
     "output_type": "stream",
     "text": [
      "Epoch 1/50\n",
      "748/748 [==============================] - 17s 23ms/step - loss: 0.2336 - acc: 0.9034 - val_loss: 0.2185 - val_acc: 0.9130\n",
      "Epoch 2/50\n",
      "748/748 [==============================] - 16s 21ms/step - loss: 0.2324 - acc: 0.9019 - val_loss: 0.2209 - val_acc: 0.9110\n",
      "Epoch 3/50\n",
      "748/748 [==============================] - 16s 21ms/step - loss: 0.2270 - acc: 0.9058 - val_loss: 0.2229 - val_acc: 0.9120\n",
      "Epoch 4/50\n",
      "748/748 [==============================] - 16s 21ms/step - loss: 0.2313 - acc: 0.9052 - val_loss: 0.2164 - val_acc: 0.9110\n",
      "Epoch 5/50\n",
      "748/748 [==============================] - 16s 21ms/step - loss: 0.2299 - acc: 0.9052 - val_loss: 0.2142 - val_acc: 0.9170\n",
      "Epoch 6/50\n",
      "748/748 [==============================] - 16s 21ms/step - loss: 0.2209 - acc: 0.9082 - val_loss: 0.2221 - val_acc: 0.9060\n",
      "Epoch 7/50\n",
      "748/748 [==============================] - 16s 21ms/step - loss: 0.2226 - acc: 0.9081 - val_loss: 0.2116 - val_acc: 0.9120\n",
      "Epoch 8/50\n",
      "748/748 [==============================] - 16s 21ms/step - loss: 0.2234 - acc: 0.9075 - val_loss: 0.2127 - val_acc: 0.9140\n",
      "Epoch 9/50\n",
      "748/748 [==============================] - 16s 21ms/step - loss: 0.2198 - acc: 0.9106 - val_loss: 0.2088 - val_acc: 0.9180\n",
      "Epoch 10/50\n",
      "748/748 [==============================] - 16s 21ms/step - loss: 0.2208 - acc: 0.9108 - val_loss: 0.2084 - val_acc: 0.9190\n",
      "Epoch 11/50\n",
      "748/748 [==============================] - 16s 21ms/step - loss: 0.2191 - acc: 0.9093 - val_loss: 0.2095 - val_acc: 0.9110\n",
      "Epoch 12/50\n",
      "748/748 [==============================] - 15s 21ms/step - loss: 0.2147 - acc: 0.9103 - val_loss: 0.2101 - val_acc: 0.9140\n",
      "Epoch 13/50\n",
      "748/748 [==============================] - 16s 21ms/step - loss: 0.2141 - acc: 0.9114 - val_loss: 0.2079 - val_acc: 0.9190\n",
      "Epoch 14/50\n",
      "748/748 [==============================] - 16s 21ms/step - loss: 0.2125 - acc: 0.9129 - val_loss: 0.2069 - val_acc: 0.9150\n",
      "Epoch 15/50\n",
      "748/748 [==============================] - 15s 21ms/step - loss: 0.2158 - acc: 0.9091 - val_loss: 0.2006 - val_acc: 0.9200\n",
      "Epoch 16/50\n",
      "748/748 [==============================] - 16s 21ms/step - loss: 0.2097 - acc: 0.9141 - val_loss: 0.2028 - val_acc: 0.9200\n",
      "Epoch 17/50\n",
      "748/748 [==============================] - 15s 21ms/step - loss: 0.2097 - acc: 0.9151 - val_loss: 0.2049 - val_acc: 0.9140\n",
      "Epoch 18/50\n",
      "748/748 [==============================] - 16s 21ms/step - loss: 0.2084 - acc: 0.9139 - val_loss: 0.1988 - val_acc: 0.9190\n",
      "Epoch 19/50\n",
      "748/748 [==============================] - 15s 21ms/step - loss: 0.2067 - acc: 0.9146 - val_loss: 0.2042 - val_acc: 0.9120\n",
      "Epoch 20/50\n",
      "748/748 [==============================] - 15s 21ms/step - loss: 0.2062 - acc: 0.9171 - val_loss: 0.2100 - val_acc: 0.9170\n",
      "Epoch 21/50\n",
      "748/748 [==============================] - 16s 21ms/step - loss: 0.2019 - acc: 0.9167 - val_loss: 0.1985 - val_acc: 0.9160\n",
      "Epoch 22/50\n",
      "748/748 [==============================] - 16s 21ms/step - loss: 0.2039 - acc: 0.9148 - val_loss: 0.1988 - val_acc: 0.9180\n",
      "Epoch 23/50\n",
      "748/748 [==============================] - 15s 21ms/step - loss: 0.2001 - acc: 0.9182 - val_loss: 0.1967 - val_acc: 0.9230\n",
      "Epoch 24/50\n",
      "748/748 [==============================] - 16s 21ms/step - loss: 0.2012 - acc: 0.9174 - val_loss: 0.2034 - val_acc: 0.9180\n",
      "Epoch 25/50\n",
      "748/748 [==============================] - 16s 21ms/step - loss: 0.2011 - acc: 0.9169 - val_loss: 0.2006 - val_acc: 0.9240\n",
      "Epoch 26/50\n",
      "748/748 [==============================] - 16s 21ms/step - loss: 0.1984 - acc: 0.9176 - val_loss: 0.1967 - val_acc: 0.9180\n",
      "Epoch 27/50\n",
      "748/748 [==============================] - 16s 21ms/step - loss: 0.2005 - acc: 0.9193 - val_loss: 0.1968 - val_acc: 0.9190\n",
      "Epoch 28/50\n",
      "748/748 [==============================] - 16s 21ms/step - loss: 0.1936 - acc: 0.9225 - val_loss: 0.1976 - val_acc: 0.9180\n",
      "Epoch 29/50\n",
      "748/748 [==============================] - 16s 21ms/step - loss: 0.1943 - acc: 0.9201 - val_loss: 0.1955 - val_acc: 0.9210\n",
      "Epoch 30/50\n",
      "748/748 [==============================] - 16s 21ms/step - loss: 0.1960 - acc: 0.9194 - val_loss: 0.1957 - val_acc: 0.9180\n",
      "Epoch 31/50\n",
      "748/748 [==============================] - 15s 21ms/step - loss: 0.1940 - acc: 0.9217 - val_loss: 0.1947 - val_acc: 0.9180\n",
      "Epoch 32/50\n",
      "748/748 [==============================] - 16s 21ms/step - loss: 0.1909 - acc: 0.9228 - val_loss: 0.1955 - val_acc: 0.9190\n",
      "Epoch 33/50\n",
      "748/748 [==============================] - 16s 21ms/step - loss: 0.1939 - acc: 0.9213 - val_loss: 0.1939 - val_acc: 0.9160\n",
      "Epoch 34/50\n",
      "748/748 [==============================] - 15s 21ms/step - loss: 0.1894 - acc: 0.9249 - val_loss: 0.1897 - val_acc: 0.9220\n",
      "Epoch 35/50\n",
      "748/748 [==============================] - 16s 21ms/step - loss: 0.1894 - acc: 0.9236 - val_loss: 0.1906 - val_acc: 0.9210\n",
      "Epoch 36/50\n",
      "748/748 [==============================] - 16s 21ms/step - loss: 0.1897 - acc: 0.9235 - val_loss: 0.1850 - val_acc: 0.9220\n",
      "Epoch 37/50\n",
      "748/748 [==============================] - 15s 21ms/step - loss: 0.1859 - acc: 0.9238 - val_loss: 0.1867 - val_acc: 0.9170\n",
      "Epoch 38/50\n",
      "748/748 [==============================] - 16s 21ms/step - loss: 0.1832 - acc: 0.9263 - val_loss: 0.1891 - val_acc: 0.9190\n",
      "Epoch 39/50\n",
      "748/748 [==============================] - 15s 21ms/step - loss: 0.1886 - acc: 0.9215 - val_loss: 0.1992 - val_acc: 0.9170\n",
      "Epoch 40/50\n",
      "748/748 [==============================] - 16s 21ms/step - loss: 0.1874 - acc: 0.9234 - val_loss: 0.1891 - val_acc: 0.9200\n",
      "Epoch 41/50\n",
      "748/748 [==============================] - 16s 21ms/step - loss: 0.1835 - acc: 0.9239 - val_loss: 0.1913 - val_acc: 0.9250\n",
      "Epoch 42/50\n",
      "748/748 [==============================] - 15s 21ms/step - loss: 0.1796 - acc: 0.9273 - val_loss: 0.1855 - val_acc: 0.9220\n",
      "Epoch 43/50\n",
      "748/748 [==============================] - 16s 21ms/step - loss: 0.1826 - acc: 0.9259 - val_loss: 0.1877 - val_acc: 0.9190\n",
      "Epoch 44/50\n",
      "748/748 [==============================] - 16s 21ms/step - loss: 0.1776 - acc: 0.9258 - val_loss: 0.1856 - val_acc: 0.9250\n",
      "Epoch 45/50\n",
      "748/748 [==============================] - 16s 21ms/step - loss: 0.1764 - acc: 0.9293 - val_loss: 0.1833 - val_acc: 0.9200\n",
      "Epoch 46/50\n",
      "748/748 [==============================] - 16s 21ms/step - loss: 0.1837 - acc: 0.9270 - val_loss: 0.1793 - val_acc: 0.9240\n",
      "Epoch 47/50\n",
      "748/748 [==============================] - 16s 21ms/step - loss: 0.1769 - acc: 0.9280 - val_loss: 0.1789 - val_acc: 0.9260\n",
      "Epoch 48/50\n",
      "748/748 [==============================] - 16s 21ms/step - loss: 0.1786 - acc: 0.9280 - val_loss: 0.1813 - val_acc: 0.9220\n",
      "Epoch 49/50\n",
      "748/748 [==============================] - 15s 21ms/step - loss: 0.1766 - acc: 0.9268 - val_loss: 0.1893 - val_acc: 0.9120\n",
      "Epoch 50/50\n",
      "748/748 [==============================] - 16s 21ms/step - loss: 0.1772 - acc: 0.9281 - val_loss: 0.1821 - val_acc: 0.9190\n"
     ]
    }
   ],
   "source": [
    "#traing the model on the data that is generated from ImageDataGenerator\n",
    "\n",
    "history2 = model.fit_generator(datagen.flow(X_train, y_train, batch_size=32),\n",
    "                                 steps_per_epoch= X_train.shape[0] //32,\n",
    "                                 epochs=50,\n",
    "                                 validation_data=(X_test, y_test))"
   ]
  },
  {
   "cell_type": "code",
   "execution_count": 44,
   "metadata": {
    "colab": {
     "base_uri": "https://localhost:8080/",
     "height": 54
    },
    "colab_type": "code",
    "executionInfo": {
     "elapsed": 776914,
     "status": "ok",
     "timestamp": 1569832806781,
     "user": {
      "displayName": "Neeraj Prakash",
      "photoUrl": "https://lh3.googleusercontent.com/a-/AAuE7mCMzeQpJ5NVoD-BuhX9YIuoNDSb52PMKBE3vYa1Cg=s64",
      "userId": "13497357977682344354"
     },
     "user_tz": -330
    },
    "id": "wP8bfEcSMY8t",
    "outputId": "ef8866c8-8fcd-4eb8-c3a3-094b964af53b"
   },
   "outputs": [
    {
     "name": "stdout",
     "output_type": "stream",
     "text": [
      "1000/1000 [==============================] - 0s 240us/step\n"
     ]
    },
    {
     "data": {
      "text/plain": [
       "[0.18213370501995085, 0.919]"
      ]
     },
     "execution_count": 44,
     "metadata": {
      "tags": []
     },
     "output_type": "execute_result"
    }
   ],
   "source": [
    "model.evaluate(X_test, y_test)"
   ]
  },
  {
   "cell_type": "code",
   "execution_count": 45,
   "metadata": {
    "colab": {
     "base_uri": "https://localhost:8080/",
     "height": 295
    },
    "colab_type": "code",
    "executionInfo": {
     "elapsed": 1754,
     "status": "ok",
     "timestamp": 1569832808547,
     "user": {
      "displayName": "Neeraj Prakash",
      "photoUrl": "https://lh3.googleusercontent.com/a-/AAuE7mCMzeQpJ5NVoD-BuhX9YIuoNDSb52PMKBE3vYa1Cg=s64",
      "userId": "13497357977682344354"
     },
     "user_tz": -330
    },
    "id": "00IZ8-UERzxO",
    "outputId": "ff4444ca-cf76-477f-e434-ab9ce707a065"
   },
   "outputs": [
    {
     "data": {
      "image/png": "[encoded data removed]",
      "text/plain": [
       "<Figure size 432x288 with 1 Axes>"
      ]
     },
     "metadata": {
      "tags": []
     },
     "output_type": "display_data"
    }
   ],
   "source": [
    "# Plot training & validation accuracy values\n",
    "plt.plot(history2.history['acc'])\n",
    "plt.plot(history2.history['val_acc'])\n",
    "plt.title('Model accuracy')\n",
    "plt.ylabel('Accuracy')\n",
    "plt.xlabel('Epoch')\n",
    "plt.legend(['Train', 'Test'], loc='upper left')\n",
    "plt.show()"
   ]
  },
  {
   "cell_type": "code",
   "execution_count": 46,
   "metadata": {
    "colab": {
     "base_uri": "https://localhost:8080/",
     "height": 295
    },
    "colab_type": "code",
    "executionInfo": {
     "elapsed": 2541,
     "status": "ok",
     "timestamp": 1569832809352,
     "user": {
      "displayName": "Neeraj Prakash",
      "photoUrl": "https://lh3.googleusercontent.com/a-/AAuE7mCMzeQpJ5NVoD-BuhX9YIuoNDSb52PMKBE3vYa1Cg=s64",
      "userId": "13497357977682344354"
     },
     "user_tz": -330
    },
    "id": "OjTdluYhSCpS",
    "outputId": "888ca688-8992-4f46-9b38-bcbc4de27f93"
   },
   "outputs": [
    {
     "data": {
      "image/png": "[encoded data removed]",
      "text/plain": [
       "<Figure size 432x288 with 1 Axes>"
      ]
     },
     "metadata": {
      "tags": []
     },
     "output_type": "display_data"
    }
   ],
   "source": [
    "# Plot training & validation loss values\n",
    "plt.plot(history2.history['loss'])\n",
    "plt.plot(history2.history['val_loss'])\n",
    "plt.title('Model loss')\n",
    "plt.ylabel('Loss')\n",
    "plt.xlabel('Epoch')\n",
    "plt.legend(['Train', 'Test'], loc='upper left')\n",
    "plt.show()"
   ]
  },
  {
   "cell_type": "code",
   "execution_count": 0,
   "metadata": {
    "colab": {},
    "colab_type": "code",
    "id": "3kOs0x3SRFu7"
   },
   "outputs": [],
   "source": [
    "model.save('drive/My Drive/Colab Notebooks/92-40-afterflip.h5')"
   ]
  },
  {
   "cell_type": "code",
   "execution_count": 0,
   "metadata": {
    "colab": {},
    "colab_type": "code",
    "id": "dOalV6PzRVg4"
   },
   "outputs": [],
   "source": [
    "## The accuracy of the model increased from 90% to 92% by using data augmentation"
   ]
  }
 ],
 "metadata": {
  "accelerator": "GPU",
  "colab": {
   "collapsed_sections": [],
   "name": "CatVsDog.ipynb",
   "provenance": []
  },
  "kernelspec": {
   "display_name": "Python 3",
   "language": "python",
   "name": "python3"
  },
  "language_info": {
   "codemirror_mode": {
    "name": "ipython",
    "version": 3
   },
   "file_extension": ".py",
   "mimetype": "text/x-python",
   "name": "python",
   "nbconvert_exporter": "python",
   "pygments_lexer": "ipython3",
   "version": "3.6.6"
  }
 },
 "nbformat": 4,
 "nbformat_minor": 1
}
